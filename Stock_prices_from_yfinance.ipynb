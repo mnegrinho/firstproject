{
  "nbformat": 4,
  "nbformat_minor": 0,
  "metadata": {
    "colab": {
      "name": "Stock prices from yfinance.ipynb",
      "provenance": [],
      "authorship_tag": "ABX9TyP19YjSAfqOV2B3zRqJ4RRK",
      "include_colab_link": true
    },
    "kernelspec": {
      "name": "python3",
      "display_name": "Python 3"
    },
    "language_info": {
      "name": "python"
    }
  },
  "cells": [
    {
      "cell_type": "markdown",
      "metadata": {
        "id": "view-in-github",
        "colab_type": "text"
      },
      "source": [
        "<a href=\"https://colab.research.google.com/github/mnegrinho/firstproject/blob/master/Stock_prices_from_yfinance.ipynb\" target=\"_parent\"><img src=\"https://colab.research.google.com/assets/colab-badge.svg\" alt=\"Open In Colab\"/></a>"
      ]
    },
    {
      "cell_type": "code",
      "source": [
        "import pandas as pd\n",
        "import datetime\n",
        "import numpy as np\n",
        "import matplotlib.pyplot as plt\n",
        "from pandas.plotting import scatter_matrix\n",
        "!pip install yfinance\n",
        "import yfinance as yf\n",
        "%matplotlib inline"
      ],
      "metadata": {
        "id": "nUjge7f8EiPq"
      },
      "execution_count": null,
      "outputs": []
    },
    {
      "cell_type": "code",
      "source": [
        "start=\"2022-02-15\"\n",
        "end=\"2022-12-12\"\n",
        "tesla=yf.download('tsla',start,end)\n",
        "microsoft=yf.download('msft',start,end)\n",
        "apple=yf.download('aapl',start,end)\n",
        "amazon=yf.download('amzn',start,end)\n",
        "google=yf.download('googl',start,end)\n"
      ],
      "metadata": {
        "id": "WcS93ZtHFd6X"
      },
      "execution_count": null,
      "outputs": []
    },
    {
      "cell_type": "code",
      "source": [
        "tesla['Open'].plot(label = 'tsla', figsize = (15,7))\n",
        "microsoft['Open'].plot(label = \"msft\")\n",
        "apple['Open'].plot(label = 'apple')\n",
        "amazon['Open'].plot(label = 'amazon')\n",
        "google['Open'].plot(label = 'google')\n",
        "plt.title('Stock Prices')"
      ],
      "metadata": {
        "id": "F5pz8jQxHffv"
      },
      "execution_count": null,
      "outputs": []
    }
  ]
}